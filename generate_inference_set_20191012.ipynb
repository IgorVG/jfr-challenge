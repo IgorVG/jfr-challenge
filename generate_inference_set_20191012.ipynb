{
 "cells": [
  {
   "cell_type": "code",
   "execution_count": 1,
   "metadata": {},
   "outputs": [],
   "source": [
    "%reload_ext autoreload\n",
    "%autoreload 2\n",
    "%matplotlib inline"
   ]
  },
  {
   "cell_type": "code",
   "execution_count": 2,
   "metadata": {},
   "outputs": [
    {
     "data": {
      "text/plain": [
       "True"
      ]
     },
     "execution_count": 2,
     "metadata": {},
     "output_type": "execute_result"
    }
   ],
   "source": [
    "import torch\n",
    "torch.cuda.is_available()"
   ]
  },
  {
   "cell_type": "code",
   "execution_count": 3,
   "metadata": {},
   "outputs": [],
   "source": [
    "# misc\n",
    "import os\n",
    "from tqdm import tqdm, tnrange, tqdm_notebook\n",
    "from pathlib import Path\n",
    "import re\n",
    "import numpy as np\n",
    "import matplotlib.pyplot as plt\n",
    "import cv2\n",
    "import sys\n",
    "import scipy.ndimage\n",
    "import math\n",
    "import pandas as pd\n",
    "#import PIL\n",
    "from PIL import Image"
   ]
  },
  {
   "cell_type": "code",
   "execution_count": 4,
   "metadata": {},
   "outputs": [],
   "source": [
    "# dicom and nii\n",
    "import pydicom\n",
    "from pydicom.data import get_testdata_files\n",
    "from pydicom.filereader import read_dicomdir\n",
    "import pydicom.pixel_data_handlers.gdcm_handler as gdcm_handler\n",
    "## ! gdcm must be installed with conda install (conda install -c conda-forge gdcm)\n",
    "pydicom.config.image_handlers = ['gdcm_handler']\n",
    "import nibabel as nib"
   ]
  },
  {
   "cell_type": "code",
   "execution_count": 5,
   "metadata": {},
   "outputs": [],
   "source": [
    "# fast.ai lib\n",
    "from fastai.vision import *\n",
    "from fastai.metrics import *\n",
    "from fastai.callbacks import *"
   ]
  },
  {
   "cell_type": "code",
   "execution_count": 6,
   "metadata": {},
   "outputs": [],
   "source": [
    "# multithreading\n",
    "from multiprocessing import Pool"
   ]
  },
  {
   "cell_type": "markdown",
   "metadata": {},
   "source": [
    "## Define paths"
   ]
  },
  {
   "cell_type": "code",
   "execution_count": 7,
   "metadata": {},
   "outputs": [],
   "source": [
    "path_str = '/home/ubuntu/sfr-challenge/lungs/dataset/Inference'"
   ]
  },
  {
   "cell_type": "code",
   "execution_count": 8,
   "metadata": {},
   "outputs": [],
   "source": [
    "path = Path(path_str)"
   ]
  },
  {
   "cell_type": "code",
   "execution_count": 9,
   "metadata": {},
   "outputs": [
    {
     "data": {
      "text/plain": [
       "True"
      ]
     },
     "execution_count": 9,
     "metadata": {},
     "output_type": "execute_result"
    }
   ],
   "source": [
    "path_out = path/'Patients'\n",
    "os.path.exists(path_out)"
   ]
  },
  {
   "cell_type": "code",
   "execution_count": 10,
   "metadata": {},
   "outputs": [
    {
     "data": {
      "text/plain": [
       "True"
      ]
     },
     "execution_count": 10,
     "metadata": {},
     "output_type": "execute_result"
    }
   ],
   "source": [
    "# UPDATE FOLDER NAME HERE\n",
    "path_dcm = path/'Dataset-3'\n",
    "os.path.exists(path_dcm)"
   ]
  },
  {
   "cell_type": "markdown",
   "metadata": {},
   "source": [
    "## Define fixed random seed"
   ]
  },
  {
   "cell_type": "code",
   "execution_count": 11,
   "metadata": {},
   "outputs": [],
   "source": [
    "np.random.seed(42)"
   ]
  },
  {
   "cell_type": "markdown",
   "metadata": {},
   "source": [
    "## Define file loaders"
   ]
  },
  {
   "cell_type": "code",
   "execution_count": 37,
   "metadata": {},
   "outputs": [],
   "source": [
    "# debug sorting https://pydicom.github.io/pydicom/dev/auto_examples/image_processing/reslice.html\n",
    "# order reversed must be based on patients orientation / origin from the metadata\n",
    "# ImagePositionPatient is used to sort slides\n",
    "def load_dicom(path):\n",
    "    slices = [pydicom.dcmread(path + '/' + s) for s in os.listdir(path) if \".dcm\" in s.lower()]\n",
    "    #try:\n",
    "    #    slices.sort(key = lambda x: x.ImagePositionPatient[2], reverse=False)\n",
    "    #except:\n",
    "    slices.sort(key = lambda x: x.InstanceNumber, reverse=True)\n",
    "        #print(\"No ImagePositionPatient[2] at:\", path)\n",
    "    return slices"
   ]
  },
  {
   "cell_type": "code",
   "execution_count": 13,
   "metadata": {},
   "outputs": [],
   "source": [
    "#     except ValueError: can be used to \n",
    "def get_pixels_hu(slices, path):\n",
    "    arr = np.array([], dtype=np.int16)\n",
    "    # convert list of slices into ndarray\n",
    "    try:\n",
    "        arr = np.stack([s.pixel_array for s in slices])\n",
    "    except:\n",
    "        print('cannot stack at: ', path)\n",
    "    arr = arr.astype(np.int16)\n",
    "    # set outside-of-scann pixels to zero (200 by default)\n",
    "    # see housfield units for more details https://en.wikipedia.org/wiki/Hounsfield_scale\n",
    "    arr[arr == -2000] = 0\n",
    "    # read Intercept and slope convert to Housfield units (HU)\n",
    "    try:\n",
    "        intercept = slices[0].RescaleIntercept\n",
    "    except ValueError:\n",
    "        print('cannot get intercept at: ', path)\n",
    "    try:\n",
    "        slope = slices[0].RescaleSlope\n",
    "    except:\n",
    "        print('cannot get slope at: ', path)\n",
    "    if slope != 1:\n",
    "        arr = slope * arr.astype(np.float64)\n",
    "        arr = arr.astype(np.int16)\n",
    "    arr += np.int16(intercept)\n",
    "    return np.array(arr, dtype=np.int16)"
   ]
  },
  {
   "cell_type": "markdown",
   "metadata": {},
   "source": [
    "## Below section: create RGB image from 3D numpy array"
   ]
  },
  {
   "cell_type": "code",
   "execution_count": 14,
   "metadata": {},
   "outputs": [],
   "source": [
    "def get_rgb_image(label, img_3d, stride=1):\n",
    "    step = stride + 1\n",
    "    \n",
    "    slice_n_minus_1 = img_3d[label - step]\n",
    "    slice_n = img_3d[label]\n",
    "    slice_n_plus_1 = img_3d[label + step]\n",
    "    img = np.array([slice_n_minus_1,\\\n",
    "                    slice_n,\\\n",
    "                    slice_n_plus_1])\n",
    "    return(np.moveaxis(img, 0, 2))"
   ]
  },
  {
   "cell_type": "code",
   "execution_count": 15,
   "metadata": {},
   "outputs": [],
   "source": [
    "# normalize to [0; 65535]\n",
    "# alternative normalization functions are in the \"Test\" section\n",
    "MIN = -1000.0\n",
    "MAX = 400.0\n",
    "def normalize_cv2(image):\n",
    "    image[image > MAX] = MAX\n",
    "    image[image < MIN] = MIN\n",
    "    #image = cv2.normalize(image, dst=None, alpha=0, beta=65535, norm_type=cv2.NORM_MINMAX, dtype=cv2.CV_16U)\n",
    "    image = cv2.normalize(image, dst=None, alpha=0, beta=255, norm_type=cv2.NORM_MINMAX, dtype=cv2.CV_8U)\n",
    "    return image"
   ]
  },
  {
   "cell_type": "code",
   "execution_count": 16,
   "metadata": {},
   "outputs": [],
   "source": [
    "# target depth is a target thickness in mm of the rgb x3 layers stack;\n",
    "# It is basically the distance between exterior layers R and B\n",
    "def get_stride(_slice):\n",
    "    s = _slice.SliceThickness\n",
    "    #print('SliceThickness:', s)\n",
    "    if s >= 2 and s <= 3: stride = 0\n",
    "    elif s > 0.9 and s <= 2: stride = 1\n",
    "    elif s > 0.6 and s <= 0.9: stride = 2\n",
    "    elif s > 0.5 and s <= 0.6: stride = 3\n",
    "    else:\n",
    "        print('SliceThickness is: ', s, ' at: ', _slice.PatientName)\n",
    "        stride = 3\n",
    "        print('stride out of range')\n",
    "    #print('stride: ', stride)\n",
    "    return int(stride)"
   ]
  },
  {
   "cell_type": "markdown",
   "metadata": {},
   "source": [
    "## Image processing"
   ]
  },
  {
   "cell_type": "code",
   "execution_count": 17,
   "metadata": {},
   "outputs": [],
   "source": [
    "def crop_center(img_nda, new_width=256, new_height=256):\n",
    "    shape = img_nda.shape\n",
    "    width = shape[0]\n",
    "    height = shape[1]\n",
    "    left = round((width - new_width) / 2)\n",
    "    top = round((height - new_height) / 2)\n",
    "    right = round((width + new_width) / 2)\n",
    "    bottom = round((height + new_height) / 2)\n",
    "    if (left > 0 and right > left and top > 0 and bottom > top): \n",
    "        crop_img = img_nda[top:bottom, left:right]\n",
    "    else:\n",
    "        crop_img = img_nda\n",
    "    return (crop_img)"
   ]
  },
  {
   "cell_type": "code",
   "execution_count": 18,
   "metadata": {},
   "outputs": [],
   "source": [
    "def resize(img, slc, new_spacing=[1.2,1.2]):\n",
    "    init_spacing = [slc.PixelSpacing[0], slc.PixelSpacing[1]]\n",
    "    spacing = map(float, init_spacing)\n",
    "    spacing = np.array(list(spacing))\n",
    "    \n",
    "    resize_factor = spacing / new_spacing\n",
    "    new_shape_float = img.shape[:2] * resize_factor\n",
    "    new_shape = np.round(new_shape_float)\n",
    "    \n",
    "    resize_factor_real = new_shape / img.shape[:2]\n",
    "    new_spacing = spacing / resize_factor_real\n",
    "    img = cv2.resize(img, None, fx=resize_factor_real[0], fy=resize_factor_real[1])\n",
    "    #img = scipy.ndimage.interpolation.zoom(img, np.append(resize_factor_real, [1]))\n",
    "    return (img)"
   ]
  },
  {
   "cell_type": "code",
   "execution_count": 19,
   "metadata": {},
   "outputs": [],
   "source": [
    "def split_quart(img, patient, qt_width=224, qt_height=224, pad_w=5, pad_h=5):\n",
    "    shape = img.shape\n",
    "    width = shape[0]\n",
    "    height = shape[1]\n",
    "    center_w = round(width / 2)\n",
    "    center_h = round(height / 2)\n",
    "    if center_h + pad_h - qt_height <= 0 or center_w + pad_w - qt_width <= 0:\n",
    "        pad_w = qt_width - center_w\n",
    "        pad_h = qt_height - center_h\n",
    "        print('split_quart: image: ', patient, ' too small: ', shape)\n",
    "    qt_upl = img[center_h + pad_h - qt_height : center_h + pad_h, center_w + pad_w - qt_width : center_w + pad_w]\n",
    "    qt_upr = img[center_h + pad_h - qt_height : center_h + pad_h, center_w - pad_w : center_w - pad_w + qt_width]\n",
    "    qt_dwl = img[center_h - pad_h : center_h - pad_h + qt_height, center_w + pad_w - qt_width : center_w + pad_w]\n",
    "    qt_dwr = img[center_h - pad_h : center_h - pad_h + qt_height, center_w - pad_w : center_w - pad_w + qt_width]\n",
    "    return qt_upl, qt_upr, qt_dwl, qt_dwr"
   ]
  },
  {
   "cell_type": "markdown",
   "metadata": {},
   "source": [
    "## Export patients"
   ]
  },
  {
   "cell_type": "code",
   "execution_count": 30,
   "metadata": {},
   "outputs": [
    {
     "data": {
      "text/plain": [
       "344"
      ]
     },
     "execution_count": 30,
     "metadata": {},
     "output_type": "execute_result"
    }
   ],
   "source": [
    "patients = os.listdir(path_dcm)\n",
    "len(patients)"
   ]
  },
  {
   "cell_type": "markdown",
   "metadata": {},
   "source": [
    "### Export method 1: multi-process 2,7s/patient, 15 min total"
   ]
  },
  {
   "cell_type": "code",
   "execution_count": 22,
   "metadata": {},
   "outputs": [],
   "source": [
    "def export_ds(p):\n",
    "    #load dcm from patient folder\n",
    "    slices = load_dicom(str(path_dcm/p))\n",
    "    stride = get_stride(slices[0])\n",
    "    step = 2 * (stride + 1)\n",
    "    pad = step * 4\n",
    "    #create patient folder in path_out if does't exist\n",
    "    if not os.path.exists(path_out/p): os.makedirs(path_out/p)\n",
    "\n",
    "    img_3d = get_pixels_hu(slices, path_dcm/p)\n",
    "    cent_slice = pad\n",
    "    num_slices = len(slices) - pad\n",
    "    while cent_slice < num_slices:\n",
    "        img_rgb = normalize_cv2(get_rgb_image(cent_slice, img_3d, stride=stride))\n",
    "        img_rgb = resize(img_rgb, slices[0], new_spacing=[1.1, 1.1])\n",
    "        img_rgb = crop_center(img_rgb)\n",
    "        cv2.imwrite(str(path_out/p) + '/' + p + '_' + str(cent_slice) + '.tif', img_rgb)\n",
    "        cent_slice += step\n",
    "    return(str(path_out/p))"
   ]
  },
  {
   "cell_type": "code",
   "execution_count": 36,
   "metadata": {},
   "outputs": [],
   "source": [
    "pats_bis = ['GSUuZtg', 'RFROAgY', 'RFROAgY']"
   ]
  },
  {
   "cell_type": "code",
   "execution_count": null,
   "metadata": {},
   "outputs": [],
   "source": [
    "if  len(os.listdir('/home/varun/temp') :\n",
    "    print(\"Directory is empty\")\n",
    "else:    \n",
    "    print(\"Directory is not empty\")  "
   ]
  },
  {
   "cell_type": "code",
   "execution_count": 42,
   "metadata": {},
   "outputs": [],
   "source": [
    "exp = os.listdir(path_out)"
   ]
  },
  {
   "cell_type": "code",
   "execution_count": 49,
   "metadata": {},
   "outputs": [],
   "source": [
    "# empty patients\n",
    "empt_pats = []\n",
    "for file in exp:\n",
    "    if len(os.listdir(path_out/file)) == 0:\n",
    "        empt_pats.append(subdir)"
   ]
  },
  {
   "cell_type": "code",
   "execution_count": 23,
   "metadata": {},
   "outputs": [
    {
     "name": "stdout",
     "output_type": "stream",
     "text": [
      "No ImagePositionPatient[2] at: /home/ubuntu/sfr-challenge/lungs/dataset/Inference/Dataset-3/WTCRC14\n",
      "cannot stack at:  /home/ubuntu/sfr-challenge/lungs/dataset/Inference/Dataset-3/WTCRC14\n",
      "No ImagePositionPatient[2] at: /home/ubuntu/sfr-challenge/lungs/dataset/Inference/Dataset-3/QsaIA1D\n",
      "cannot stack at:  /home/ubuntu/sfr-challenge/lungs/dataset/Inference/Dataset-3/QsaIA1D\n",
      "No ImagePositionPatient[2] at: /home/ubuntu/sfr-challenge/lungs/dataset/Inference/Dataset-3/cD7Jiqn\n",
      "cannot stack at:  /home/ubuntu/sfr-challenge/lungs/dataset/Inference/Dataset-3/cD7Jiqn\n",
      "No ImagePositionPatient[2] at: /home/ubuntu/sfr-challenge/lungs/dataset/Inference/Dataset-3/rJWLLEG\n",
      "cannot stack at:  /home/ubuntu/sfr-challenge/lungs/dataset/Inference/Dataset-3/rJWLLEG\n",
      "No ImagePositionPatient[2] at: /home/ubuntu/sfr-challenge/lungs/dataset/Inference/Dataset-3/HjERXx3\n",
      "cannot stack at:  /home/ubuntu/sfr-challenge/lungs/dataset/Inference/Dataset-3/HjERXx3\n"
     ]
    }
   ],
   "source": [
    "# CV2 has 4 threads each process. Maximal processing speed achieved with 2 process (8-core CPU)\n",
    "prc = Pool(2)"
   ]
  },
  {
   "cell_type": "code",
   "execution_count": null,
   "metadata": {},
   "outputs": [],
   "source": [
    "%%time\n",
    "prc.map(export_ds, patients)"
   ]
  },
  {
   "cell_type": "markdown",
   "metadata": {},
   "source": [
    "### Export method 2: loop 5s/patient, 30 min total"
   ]
  },
  {
   "cell_type": "code",
   "execution_count": null,
   "metadata": {},
   "outputs": [],
   "source": [
    "for p in tqdm_notebook(patients[:20]):\n",
    "    export_ds(p)"
   ]
  }
 ],
 "metadata": {
  "kernelspec": {
   "display_name": "Python 3",
   "language": "python",
   "name": "python3"
  },
  "language_info": {
   "codemirror_mode": {
    "name": "ipython",
    "version": 3
   },
   "file_extension": ".py",
   "mimetype": "text/x-python",
   "name": "python",
   "nbconvert_exporter": "python",
   "pygments_lexer": "ipython3",
   "version": "3.7.4"
  }
 },
 "nbformat": 4,
 "nbformat_minor": 2
}
